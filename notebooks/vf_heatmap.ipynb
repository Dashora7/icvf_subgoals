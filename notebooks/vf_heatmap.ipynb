{
 "cells": [
  {
   "cell_type": "code",
   "execution_count": 5,
   "metadata": {},
   "outputs": [],
   "source": [
    "import os\n",
    "os.environ[\"JAX_PLATFORM_NAME\"] = \"cpu\"\n",
    "os.environ[\"CUDA_VISIBLE_DEVICES\"] = \"1\"\n",
    "os.environ[\"XLA_PYTHON_CLIENT_PREALLOCATE\"] = \"false\"\n",
    "import jax\n",
    "from src import icvf_learner as learner\n",
    "from src.icvf_networks import icvfs, create_icvf\n",
    "from flax.serialization import from_state_dict\n",
    "import numpy as np\n",
    "import pickle\n",
    "import matplotlib.animation as animation \n",
    "#import html\n",
    "from IPython.display import HTML\n",
    "import seaborn as sns\n",
    "import matplotlib.pyplot as plt\n",
    "import h5py\n",
    "from scipy.stats import multivariate_normal"
   ]
  },
  {
   "cell_type": "code",
   "execution_count": 42,
   "metadata": {},
   "outputs": [
    {
     "name": "stdout",
     "output_type": "stream",
     "text": [
      "Extra kwargs: {}\n"
     ]
    }
   ],
   "source": [
    "model_paths = {\n",
    "    'icvf_gamma0990': \"/nfs/kun2/users/dashora7/antmaze-large-icvf.pkl\",\n",
    "    'icvf_path_0995': \"/home/dashora7/icvf_release/experiment_output/icvf_antmaze/icvf/icvf_multilinear_antmaze-large-diverse-v2_20240116_173911/params.pkl\",\n",
    "    'icvf_path_0999_earlyckpt': \"/home/dashora7/icvf_release/experiment_output/icvf_antmaze/icvf/icvf_multilinear_antmaze-large-diverse-v2_20240117_122151/step_400000_params.pkl\",\n",
    "    'icvf_path_0999_big': '/home/dashora7/icvf_release/experiment_output/icvf_antmaze/icvf/icvf_multilinear_antmaze-large-diverse-v2_20240117_130954/step_500000_params.pkl',\n",
    "    \n",
    "    # Good\n",
    "    'icvf_path_0999_big_mono': '/nfs/kun2/users/dashora7/icvf-runs/icvf_monolithic_antmaze-large-diverse-v2_20240117_165352/step_600000_params.pkl',\n",
    "    \n",
    "    'icvf_zz_0999_big_mono': '/nfs/kun2/users/dashora7/icvf-runs/icvf_monolithic_antmaze-large-diverse-v2_20240126_185337/step_400000_params.pkl',\n",
    "    'icvf_path_0999_big_mono_quasi': '/home/dashora7/icvf_release/experiment_output/icvf_antmaze/icvf/icvf_monolithic_antmaze-large-diverse-v2_20240129_135902/step_200000_params.pkl',\n",
    "    'icvf_path_0999_big_mono_quasitune': '/home/dashora7/icvf_release/experiment_output/icvf_antmaze/icvf/icvf_monolithic_antmaze-large-diverse-v2_20240129_153659/step_200000_params.pkl',\n",
    "    'bigmono_quasiw01': \"/home/dashora7/icvf_release/experiment_output/icvf_antmaze/icvf/icvf_monolithic_antmaze-large-diverse-v2_20240129_155836/step_600000_params.pkl\",\n",
    "    \n",
    "    # Good\n",
    "    'bigmono_quasiw025': \"/home/dashora7/icvf_release/experiment_output/icvf_antmaze/icvf/icvf_monolithic_antmaze-large-diverse-v2_20240129_160430/step_200000_params.pkl\",\n",
    "    \n",
    "    'bigmono_quasiw02c2': \"/home/dashora7/icvf_release/experiment_output/icvf_antmaze/icvf/icvf_monolithic_antmaze-large-diverse-v2_20240129_165058/step_700000_params.pkl\",\n",
    "    'bigmono_quasiw025c2': \"/home/dashora7/icvf_release/experiment_output/icvf_antmaze/icvf/icvf_monolithic_antmaze-large-diverse-v2_20240129_170127/step_500000_params.pkl\",\n",
    "   \n",
    "    'bigmono_stopzz': \"/home/dashora7/icvf_release/experiment_output/icvf_antmaze/icvf/icvf_monolithic_antmaze-large-diverse-v2_20240130_162050/step_400000_params.pkl\",\n",
    "    \n",
    "    'bigmono_tau099': '/home/dashora7/icvf_release/experiment_output/icvf_antmaze/icvf/icvf_monolithic_antmaze-large-diverse-v2_20240130_134540/step_200000_params.pkl',\n",
    "    'bigmono_tau05': '/home/dashora7/icvf_release/experiment_output/icvf_antmaze/icvf/icvf_monolithic_antmaze-large-diverse-v2_20240130_135538/step_400000_params.pkl',\n",
    "    'bigmono_tau095': '/home/dashora7/icvf_release/experiment_output/icvf_antmaze/icvf/icvf_monolithic_antmaze-large-diverse-v2_20240130_141212/step_600000_params.pkl',\n",
    "    'bigmono_tau090': '/home/dashora7/icvf_release/experiment_output/icvf_antmaze/icvf/icvf_monolithic_antmaze-large-diverse-v2_20240130_145056/step_900000_params.pkl',\n",
    "    'icvf_path_0999_huge_mono': '/home/dashora7/icvf_release/experiment_output/icvf_antmaze/icvf/icvf_monolithic_antmaze-large-diverse-v2_20240130_173109/step_1000000_params.pkl',\n",
    "    \n",
    "    # discrete, Good!\n",
    "    \"icvf_path_0999_big_mono_disc80bin\": '/home/dashora7/icvf_release/experiment_output/icvf_antmaze/icvf/icvf_monolithic_antmaze-large-diverse-v2_20240201_122706/step_600000_params.pkl',\n",
    "    \"icvf_path_0999_big_mono_disc80bin_QM025\": '/home/dashora7/icvf_release/experiment_output/icvf_antmaze/icvf/icvf_monolithic_antmaze-large-diverse-v2_20240201_132413/step_600000_params.pkl',\n",
    "    \"icvf_path_0999_big_mono_disc80bin_QM000\": '/home/dashora7/icvf_release/experiment_output/icvf_antmaze/icvf/icvf_monolithic_antmaze-large-diverse-v2_20240202_152550/step_500000_params.pkl',\n",
    "    \"icvf_path_0999_big_mono_disc80bin_QM015\": '/home/dashora7/icvf_release/experiment_output/icvf_antmaze/icvf/icvf_monolithic_antmaze-large-diverse-v2_20240202_152631/step_200000_params.pkl'\n",
    "    \n",
    "}\n",
    "# model_name = 'icvf_zz_0999_big_mono'\n",
    "# model_name = 'icvf_path_0999_big_mono'\n",
    "# model_name = 'icvf_path_0999_big_mono_quasitune'\n",
    "\n",
    "# model_name = \"bigmono_tau095\"\n",
    "model_name = \"icvf_path_0999_big_mono_disc80bin_QM000\"\n",
    "\n",
    "# model_name = \"bigmono_stopzz\"\n",
    "\n",
    "\n",
    "# model_name = 'icvf_path_0999_big_mono'\n",
    "\n",
    "\n",
    "\n",
    "icvf_path = model_paths[model_name]\n",
    "\n",
    "# icvf_path = \"/home/dashora7/icvf_release/experiment_output/icvf_antmaze/icvf/icvf_multilinear_antmaze-large-diverse-v2_20240117_122151/step_300000_params.pkl\"\n",
    "assert icvf_path is not None, \"Need to provide path to ICVF model!\"    \n",
    "with open(icvf_path, 'rb') as f:\n",
    "    icvf_params = pickle.load(f)\n",
    "\n",
    "params = icvf_params['agent']\n",
    "conf = icvf_params['config']\n",
    "\n",
    "if 'big' in model_name:\n",
    "    hidden_dims = [512, 512, 512]\n",
    "elif 'huge' in model_name:\n",
    "    hidden_dims = [1024, 1024, 1024, 1024]\n",
    "else:\n",
    "    hidden_dims = [256, 256]\n",
    "\n",
    "if 'mono' in model_name:\n",
    "    model_type = 'monolithic'\n",
    "else:\n",
    "    model_type = 'multilinear'\n",
    "    \n",
    "value_def = create_icvf(model_type, hidden_dims=hidden_dims)\n",
    "\n",
    "agent = learner.create_learner(\n",
    "    seed=42, observations=np.ones((1, 29)),\n",
    "    value_def=value_def, **conf)\n",
    "agent = from_state_dict(agent, params)\n",
    "\n",
    "def icvf_repr_fn(obs):\n",
    "    return agent.value(obs, method='get_phi')\n",
    "def icvf_value_fn(obs, goal):\n",
    "    return -1 * agent.value(obs, goal, goal).mean(0)\n",
    "def icvf_full(obs, outcome, goal):\n",
    "    return -1 * agent.value(obs, outcome, goal).mean(0)\n",
    "\n",
    "def test_func(grid, goal):\n",
    "    return np.prod(grid[..., :2], axis=-1)\n",
    "\n",
    "state_repr_func = jax.jit(icvf_repr_fn)\n",
    "value_fn = jax.jit(icvf_value_fn)\n",
    "full_fn = jax.jit(icvf_full)\n",
    "\n",
    "fpath = '/nfs/kun2/users/dashora7/hard_antmaze.hdf5'\n",
    "data = h5py.File(fpath, 'r')\n",
    "obses = data['observations']\n",
    "obses = np.array(obses)\n",
    "mean = np.mean(obses, axis=0)\n",
    "cov = np.cov(obses, rowvar=False)\n",
    "mvn = multivariate_normal(mean=mean, cov=cov)\n"
   ]
  },
  {
   "cell_type": "code",
   "execution_count": 43,
   "metadata": {},
   "outputs": [
    {
     "name": "stdout",
     "output_type": "stream",
     "text": [
      "(1200, 29) (1200, 29) (1200, 29)\n"
     ]
    }
   ],
   "source": [
    "# create a grid of points\n",
    "W, H = 40, 30\n",
    "x = np.linspace(0, 40, W)\n",
    "y = np.linspace(0, 30, H)\n",
    "goal = np.zeros((1, 29))\n",
    "start = np.zeros((1, 29))\n",
    "\n",
    "\n",
    "goal[:, :2] = np.array([36, 24])\n",
    "# goal[:, :2] = np.array([22, 2])\n",
    "start[:, :2] = np.array([2, 2])\n",
    "\n",
    "\n",
    "X, Y = np.meshgrid(x, y)\n",
    "# Stack the X and Y grids to a 2-dimensional grid\n",
    "grid = np.stack((X, Y), axis=-1)\n",
    "# add random samples 3rd dimension of grid to expand to 29\n",
    "samples = mvn.rvs(size=H*W)[..., 2:]\n",
    "# samples = np.zeros((H, W, 27))\n",
    "grid = np.concatenate((grid, samples.reshape((H, W, 27))), axis=-1)\n",
    "# flatten and pass to ICVF, then reshape\n",
    "grid = grid.reshape(-1, 29)\n",
    "goal = goal.repeat(grid.shape[0], axis=0)\n",
    "start = start.repeat(grid.shape[0], axis=0)\n",
    "# grid = -1 * value_fn(grid, goal)\n",
    "print(grid.shape, goal.shape, start.shape)\n",
    "grid = -1 * full_fn(grid, goal, goal)\n",
    "grid = grid.reshape(H, W)\n",
    "# grid = np.flip(grid.reshape(H, W), axis=0)"
   ]
  },
  {
   "cell_type": "code",
   "execution_count": 44,
   "metadata": {},
   "outputs": [
    {
     "name": "stdout",
     "output_type": "stream",
     "text": [
      "(30, 40)\n"
     ]
    },
    {
     "data": {
      "text/plain": [
       "Text(0.5, 1.0, 'V(s, x, g) vs. x')"
      ]
     },
     "execution_count": 44,
     "metadata": {},
     "output_type": "execute_result"
    },
    {
     "data": {
      "image/png": "[encoded data removed]",
      "text/plain": [
       "<Figure size 640x480 with 2 Axes>"
      ]
     },
     "metadata": {},
     "output_type": "display_data"
    }
   ],
   "source": [
    "print(grid.shape)\n",
    "sns.heatmap(grid, cmap='viridis')\n",
    "# set plt extent\n",
    "plt.xlim([-3, 43])\n",
    "plt.ylim([-3, 33])\n",
    "plt.scatter([goal[0][0]], [goal[0][1]], marker='*', s=100, color='red')\n",
    "plt.scatter([start[0][0]], [start[0][1]], s=100, color='blue')\n",
    "# plot squares of maze\n",
    "plt.fill_between([-3, 0], [-4, -4], [30, 30], color='xkcd:light grey')\n",
    "plt.fill_between([40, 43], [-4, -4], [30, 30], color='xkcd:light grey')\n",
    "plt.fill_between([0, 40], [27, 27], [30, 30], color='xkcd:light grey')\n",
    "plt.fill_between([0, 40], [-4, -4], [0, 0], color='xkcd:light grey')\n",
    "plt.fill_between([15, 19], [-1, -1], [7, 7], color='xkcd:light grey')\n",
    "plt.fill_between([4, 11], [3, 3], [7, 7], color='xkcd:light grey')\n",
    "plt.fill_between([0, 3.5], [19, 19], [22.5, 22.5], color='xkcd:light grey')\n",
    "plt.fill_between([8, 11], [16, 16], [28, 28], color='xkcd:light grey')\n",
    "plt.fill_between([4, 18], [12, 12], [16, 16], color='xkcd:light grey')\n",
    "plt.fill_between([15, 19], [12, 12], [23, 23], color='xkcd:light grey')\n",
    "plt.fill_between([23, 27], [19, 19], [29, 29], color='xkcd:light grey')\n",
    "plt.fill_between([23, 27], [4, 4], [15, 15], color='xkcd:light grey')\n",
    "plt.fill_between([23, 35], [11, 11], [15, 15], color='xkcd:light grey')\n",
    "plt.fill_between([32, 35], [4, 4], [7, 7], color='xkcd:light grey')\n",
    "plt.fill_between([31, 40], [19, 19], [22.5, 22.5], color='xkcd:light grey')\n",
    "# remove axis labels\n",
    "plt.axis('off')\n",
    "# add title\n",
    "\n",
    "# V(s, g, g) is not good potentially\n",
    "\n",
    "plt.title('V(s, x, g) vs. x')"
   ]
  },
  {
   "cell_type": "code",
   "execution_count": 45,
   "metadata": {},
   "outputs": [
    {
     "name": "stdout",
     "output_type": "stream",
     "text": [
      "optimal steps 153.43546\n",
      "expected steps range: 129.48872 371.33185\n",
      "The error should be strictly positive if quasimetric!\n",
      "The min is -23.946732\n",
      "The median is 53.96057\n",
      "The percent of subgoals with negative error is 2.25\n"
     ]
    },
    {
     "data": {
      "text/plain": [
       "(-3.0, 43.0, -3.0, 33.0)"
      ]
     },
     "execution_count": 45,
     "metadata": {},
     "output_type": "execute_result"
    },
    {
     "data": {
      "image/png": "[encoded data removed]",
      "text/plain": [
       "<Figure size 640x480 with 2 Axes>"
      ]
     },
     "metadata": {},
     "output_type": "display_data"
    }
   ],
   "source": [
    "# Get grid of points. \n",
    "W, H = 40, 30\n",
    "x = np.linspace(0, 40, W)\n",
    "y = np.linspace(0, 30, H)\n",
    "goal = np.zeros((1, 29))\n",
    "start = np.zeros((1, 29))\n",
    "\n",
    "goal[:, :2] = np.array([36, 24])\n",
    "start[:, :2] = np.array([2, 2])\n",
    "\n",
    "X, Y = np.meshgrid(x, y)\n",
    "# Stack the X and Y grids to a 2-dimensional grid\n",
    "grid = np.stack((X, Y), axis=-1)\n",
    "# add random samples 3rd dimension of grid to expand to 29\n",
    "samples = mvn.rvs(size=H*W)[..., 2:]\n",
    "grid = np.concatenate((grid, samples.reshape((H, W, 27))), axis=-1)\n",
    "# flatten and pass to ICVF, then reshape\n",
    "grid = grid.reshape(-1, 29)\n",
    "goal = goal.repeat(grid.shape[0], axis=0)\n",
    "start = start.repeat(grid.shape[0], axis=0)\n",
    "\n",
    "steps_to_sg = full_fn(start, grid, grid)\n",
    "steps_from_sg = full_fn(grid, goal, goal)\n",
    "expected_steps = steps_to_sg + steps_from_sg\n",
    "optimal_steps = full_fn(start, goal, goal)\n",
    "error = expected_steps - optimal_steps\n",
    "print(\"optimal steps\", optimal_steps[0])\n",
    "print(\"expected steps range:\", np.min(expected_steps), np.max(expected_steps))\n",
    "print(\"The error should be strictly positive if quasimetric!\")\n",
    "print(\"The min is\", np.min(error))\n",
    "print(\"The median is\", np.median(error))\n",
    "# get percent of subgoals that have negative error\n",
    "print(\"The percent of subgoals with negative error is\", 100 * (np.sum(error < 0) / error.shape[0]))\n",
    "scores = -1 * error\n",
    "\n",
    "# apply relu to scores\n",
    "scores = np.maximum(scores, 0)\n",
    "# make nonzero scores 1\n",
    "scores[scores > 0] = 1\n",
    "\n",
    "scores = scores.reshape(H, W)\n",
    "sns.heatmap(scores, cmap='viridis')\n",
    "plt.xlim([-3, 43])\n",
    "plt.ylim([-3, 33])\n",
    "plt.scatter([goal[0][0]], [goal[0][1]], marker='*', s=100, color='red')\n",
    "plt.scatter([start[0][0]], [start[0][1]], s=100, color='blue')\n",
    "# plot squares of maze\n",
    "plt.fill_between([-3, 0], [-4, -4], [30, 30], color='xkcd:light grey')\n",
    "plt.fill_between([40, 43], [-4, -4], [30, 30], color='xkcd:light grey')\n",
    "plt.fill_between([0, 40], [27, 27], [30, 30], color='xkcd:light grey')\n",
    "plt.fill_between([0, 40], [-4, -4], [0, 0], color='xkcd:light grey')\n",
    "plt.fill_between([15, 19], [-1, -1], [7, 7], color='xkcd:light grey')\n",
    "plt.fill_between([4, 11], [3, 3], [7, 7], color='xkcd:light grey')\n",
    "plt.fill_between([0, 3.5], [19, 19], [22.5, 22.5], color='xkcd:light grey')\n",
    "plt.fill_between([8, 11], [16, 16], [28, 28], color='xkcd:light grey')\n",
    "plt.fill_between([4, 18], [12, 12], [16, 16], color='xkcd:light grey')\n",
    "plt.fill_between([15, 19], [12, 12], [23, 23], color='xkcd:light grey')\n",
    "plt.fill_between([23, 27], [19, 19], [29, 29], color='xkcd:light grey')\n",
    "plt.fill_between([23, 27], [4, 4], [15, 15], color='xkcd:light grey')\n",
    "plt.fill_between([23, 35], [11, 11], [15, 15], color='xkcd:light grey')\n",
    "plt.fill_between([32, 35], [4, 4], [7, 7], color='xkcd:light grey')\n",
    "plt.fill_between([31, 40], [19, 19], [22.5, 22.5], color='xkcd:light grey')\n",
    "plt.axis('off')"
   ]
  },
  {
   "cell_type": "code",
   "execution_count": null,
   "metadata": {},
   "outputs": [],
   "source": []
  },
  {
   "cell_type": "code",
   "execution_count": null,
   "metadata": {},
   "outputs": [],
   "source": []
  }
 ],
 "metadata": {
  "kernelspec": {
   "display_name": "Python 3",
   "language": "python",
   "name": "python3"
  },
  "language_info": {
   "codemirror_mode": {
    "name": "ipython",
    "version": 3
   },
   "file_extension": ".py",
   "mimetype": "text/x-python",
   "name": "python",
   "nbconvert_exporter": "python",
   "pygments_lexer": "ipython3",
   "version": "3.9.18"
  }
 },
 "nbformat": 4,
 "nbformat_minor": 2
}
